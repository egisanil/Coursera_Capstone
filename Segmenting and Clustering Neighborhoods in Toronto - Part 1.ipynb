{
    "cells": [
        {
            "cell_type": "markdown",
            "metadata": {},
            "source": [
                " # Segmenting and Clustering Neighborhoods in Toronto Part 1"
            ]
        },
        {
            "cell_type": "markdown",
            "metadata": {},
            "source": [
                "## Importing Libraries"
            ]
        },
        {
            "cell_type": "code",
            "execution_count": 10,
            "metadata": {},
            "outputs": [
                {
                    "name": "stdout",
                    "output_type": "stream",
                    "text": [
                        "Libraries imported.\n"
                    ]
                }
            ],
            "source": [
                "#!pip install bs4\r\n",
                "from bs4 import BeautifulSoup # this module helps in web scrapping.\r\n",
                "import numpy as np # library to handle data in a vectorized manner\r\n",
                "\r\n",
                "import pandas as pd # library for data analsysis\r\n",
                "pd.set_option('display.max_columns', None)\r\n",
                "pd.set_option('display.max_rows', None)\r\n",
                "\r\n",
                "import json # library to handle JSON files\r\n",
                "\r\n",
                "#!conda install -c conda-forge geopy --yes # uncomment this line if you haven't completed the Foursquare API lab\r\n",
                "from geopy.geocoders import Nominatim # convert an address into latitude and longitude values\r\n",
                "\r\n",
                "import requests # library to handle requests\r\n",
                "from pandas.io.json import json_normalize # tranform JSON file into a pandas dataframe\r\n",
                "\r\n",
                "# Matplotlib and associated plotting modules\r\n",
                "import matplotlib.cm as cm\r\n",
                "import matplotlib.colors as colors\r\n",
                "\r\n",
                "# import k-means from clustering stage\r\n",
                "from sklearn.cluster import KMeans\r\n",
                "\r\n",
                "#!conda install -c conda-forge folium=0.5.0 --yes # uncomment this line if you haven't completed the Foursquare API lab\r\n",
                "import folium # map rendering library\r\n",
                "\r\n",
                "print('Libraries imported.')"
            ]
        },
        {
            "cell_type": "markdown",
            "metadata": {},
            "source": [
                "## Getting the text data from the Wiki url"
            ]
        },
        {
            "cell_type": "code",
            "execution_count": 2,
            "metadata": {},
            "outputs": [],
            "source": [
                "url = \"https://en.wikipedia.org/wiki/List_of_postal_codes_of_Canada:_M\"\n",
                "data = requests.get(url).text"
            ]
        },
        {
            "cell_type": "markdown",
            "metadata": {},
            "source": [
                "## Using Web Scraping for beautifying data"
            ]
        },
        {
            "cell_type": "code",
            "execution_count": 3,
            "metadata": {},
            "outputs": [],
            "source": [
                "soup = BeautifulSoup(data,\"html5lib\") "
            ]
        },
        {
            "cell_type": "markdown",
            "metadata": {},
            "source": [
                "## Extraxcting Required Data from the table and cleaning it"
            ]
        },
        {
            "cell_type": "code",
            "execution_count": 4,
            "metadata": {},
            "outputs": [
                {
                    "data": {
                        "text/plain": "2"
                    },
                    "execution_count": 4,
                    "metadata": {},
                    "output_type": "execute_result"
                }
            ],
            "source": [
                "tables=soup.find('table')\n",
                "len(tables)"
            ]
        },
        {
            "cell_type": "code",
            "execution_count": 6,
            "metadata": {},
            "outputs": [],
            "source": [
                "table_contents=[]\r\n",
                "for row in tables.findAll('td'):\r\n",
                "    cell = {}\r\n",
                "    if row.span.text=='Not assigned':\r\n",
                "        pass\r\n",
                "    else:\r\n",
                "        cell['PostalCode'] = row.p.text[:3]\r\n",
                "        cell['Borough'] = (row.span.text).split('(')[0]\r\n",
                "        cell['Neighborhood'] = (((((row.span.text).split('(')[1]).strip(')')).replace(' /',',')).replace(')',' ')).strip(' ')\r\n",
                "        table_contents.append(cell)\r\n",
                "\r\n",
                "# print(table_contents)\r\n",
                "df=pd.DataFrame(table_contents)\r\n",
                "df['Borough']=df['Borough'].replace({'Downtown TorontoStn A PO Boxes25 The Esplanade':'Downtown Toronto Stn A',\r\n",
                "                                             'East TorontoBusiness reply mail Processing Centre969 Eastern':'East Toronto Business',\r\n",
                "                                             'EtobicokeNorthwest':'Etobicoke Northwest','East YorkEast Toronto':'East York/East Toronto',\r\n",
                "                                             'MississaugaCanada Post Gateway Processing Centre':'Mississauga'})"
            ]
        },
        {
            "cell_type": "code",
            "execution_count": 19,
            "metadata": {},
            "outputs": [
                {
                    "data": {
                        "text/html": "<div>\n<style scoped>\n    .dataframe tbody tr th:only-of-type {\n        vertical-align: middle;\n    }\n\n    .dataframe tbody tr th {\n        vertical-align: top;\n    }\n\n    .dataframe thead th {\n        text-align: right;\n    }\n</style>\n<table border=\"1\" class=\"dataframe\">\n  <thead>\n    <tr style=\"text-align: right;\">\n      <th></th>\n      <th>PostalCode</th>\n      <th>Borough</th>\n      <th>Neighborhood</th>\n    </tr>\n  </thead>\n  <tbody>\n    <tr>\n      <th>0</th>\n      <td>M3A</td>\n      <td>North York</td>\n      <td>Parkwoods</td>\n    </tr>\n    <tr>\n      <th>1</th>\n      <td>M4A</td>\n      <td>North York</td>\n      <td>Victoria Village</td>\n    </tr>\n    <tr>\n      <th>2</th>\n      <td>M5A</td>\n      <td>Downtown Toronto</td>\n      <td>Regent Park, Harbourfront</td>\n    </tr>\n    <tr>\n      <th>3</th>\n      <td>M6A</td>\n      <td>North York</td>\n      <td>Lawrence Manor, Lawrence Heights</td>\n    </tr>\n    <tr>\n      <th>4</th>\n      <td>M7A</td>\n      <td>Queen's Park</td>\n      <td>Ontario Provincial Government</td>\n    </tr>\n  </tbody>\n</table>\n</div>",
                        "text/plain": "  PostalCode           Borough                      Neighborhood\n0        M3A        North York                         Parkwoods\n1        M4A        North York                  Victoria Village\n2        M5A  Downtown Toronto         Regent Park, Harbourfront\n3        M6A        North York  Lawrence Manor, Lawrence Heights\n4        M7A      Queen's Park     Ontario Provincial Government"
                    },
                    "execution_count": 19,
                    "metadata": {},
                    "output_type": "execute_result"
                }
            ],
            "source": [
                "df.head()"
            ]
        },
        {
            "cell_type": "code",
            "execution_count": 7,
            "metadata": {},
            "outputs": [
                {
                    "data": {
                        "text/plain": "(103, 3)"
                    },
                    "execution_count": 7,
                    "metadata": {},
                    "output_type": "execute_result"
                }
            ],
            "source": [
                "df.shape"
            ]
        },
        {
            "cell_type": "markdown",
            "metadata": {},
            "source": [
                "## Finding out if any Not Assigned value present in Neighborhood"
            ]
        },
        {
            "cell_type": "code",
            "execution_count": 8,
            "metadata": {},
            "outputs": [
                {
                    "data": {
                        "text/plain": "array([-1], dtype=int64)"
                    },
                    "execution_count": 8,
                    "metadata": {},
                    "output_type": "execute_result"
                }
            ],
            "source": [
                "df['Indexes']= df['Neighborhood'].str.find('Not assigned')\n",
                "df['Indexes'].unique()"
            ]
        }
    ],
    "metadata": {
        "kernelspec": {
            "display_name": "Python 3.8.5 64-bit ('base': conda)",
            "name": "python385jvsc74a57bd0b3ba2566441a7c06988d0923437866b63cedc61552a5af99d1f4fb67d367b25f"
        },
        "language_info": {
            "codemirror_mode": {
                "name": "ipython",
                "version": 3
            },
            "file_extension": ".py",
            "mimetype": "text/x-python",
            "name": "python",
            "nbconvert_exporter": "python",
            "pygments_lexer": "ipython3",
            "version": "3.8.5"
        }
    },
    "nbformat": 4,
    "nbformat_minor": 1
}